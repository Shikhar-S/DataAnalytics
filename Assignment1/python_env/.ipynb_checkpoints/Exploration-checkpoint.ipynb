{
 "cells": [
  {
   "cell_type": "code",
   "execution_count": 51,
   "metadata": {},
   "outputs": [
    {
     "name": "stdout",
     "output_type": "stream",
     "text": [
      "(125838, 38)\n"
     ]
    }
   ],
   "source": [
    "import pandas as pd\n",
    "data=pd.read_csv('data_assignment1.csv')\n",
    "#Remove wrong data\n",
    "data=data[data['Error.In.Data']==0]\n",
    "print(data.shape)"
   ]
  },
  {
   "cell_type": "code",
   "execution_count": 52,
   "metadata": {},
   "outputs": [
    {
     "data": {
      "text/html": [
       "<div>\n",
       "<style scoped>\n",
       "    .dataframe tbody tr th:only-of-type {\n",
       "        vertical-align: middle;\n",
       "    }\n",
       "\n",
       "    .dataframe tbody tr th {\n",
       "        vertical-align: top;\n",
       "    }\n",
       "\n",
       "    .dataframe thead th {\n",
       "        text-align: right;\n",
       "    }\n",
       "</style>\n",
       "<table border=\"1\" class=\"dataframe\">\n",
       "  <thead>\n",
       "    <tr style=\"text-align: right;\">\n",
       "      <th></th>\n",
       "      <th>Match</th>\n",
       "      <th>Date</th>\n",
       "      <th>Innings</th>\n",
       "      <th>Over</th>\n",
       "      <th>Runs</th>\n",
       "      <th>Total.Runs</th>\n",
       "      <th>Innings.Total.Runs</th>\n",
       "      <th>Runs.Remaining</th>\n",
       "      <th>Total.Out</th>\n",
       "      <th>Innings.Total.Out</th>\n",
       "      <th>...</th>\n",
       "      <th>at.bat.won.toss</th>\n",
       "      <th>at.bat.at.home</th>\n",
       "      <th>at.bat.bat.first</th>\n",
       "      <th>chose_bat_1st</th>\n",
       "      <th>chose_bat_2nd</th>\n",
       "      <th>forced_bat_1st</th>\n",
       "      <th>forced_bat_2nd</th>\n",
       "      <th>new.game</th>\n",
       "      <th>Error.In.Data</th>\n",
       "      <th>common.support</th>\n",
       "    </tr>\n",
       "  </thead>\n",
       "  <tbody>\n",
       "    <tr>\n",
       "      <th>0</th>\n",
       "      <td>65193</td>\n",
       "      <td>14/05/1999</td>\n",
       "      <td>1</td>\n",
       "      <td>1</td>\n",
       "      <td>4</td>\n",
       "      <td>4</td>\n",
       "      <td>204</td>\n",
       "      <td>200</td>\n",
       "      <td>0</td>\n",
       "      <td>10</td>\n",
       "      <td>...</td>\n",
       "      <td>0</td>\n",
       "      <td>0</td>\n",
       "      <td>1</td>\n",
       "      <td>0</td>\n",
       "      <td>0</td>\n",
       "      <td>1</td>\n",
       "      <td>0</td>\n",
       "      <td>1</td>\n",
       "      <td>0</td>\n",
       "      <td>1</td>\n",
       "    </tr>\n",
       "    <tr>\n",
       "      <th>1</th>\n",
       "      <td>65193</td>\n",
       "      <td>14/05/1999</td>\n",
       "      <td>1</td>\n",
       "      <td>2</td>\n",
       "      <td>2</td>\n",
       "      <td>6</td>\n",
       "      <td>204</td>\n",
       "      <td>198</td>\n",
       "      <td>0</td>\n",
       "      <td>10</td>\n",
       "      <td>...</td>\n",
       "      <td>0</td>\n",
       "      <td>0</td>\n",
       "      <td>1</td>\n",
       "      <td>0</td>\n",
       "      <td>0</td>\n",
       "      <td>1</td>\n",
       "      <td>0</td>\n",
       "      <td>0</td>\n",
       "      <td>0</td>\n",
       "      <td>1</td>\n",
       "    </tr>\n",
       "    <tr>\n",
       "      <th>2</th>\n",
       "      <td>65193</td>\n",
       "      <td>14/05/1999</td>\n",
       "      <td>1</td>\n",
       "      <td>3</td>\n",
       "      <td>3</td>\n",
       "      <td>9</td>\n",
       "      <td>204</td>\n",
       "      <td>195</td>\n",
       "      <td>0</td>\n",
       "      <td>10</td>\n",
       "      <td>...</td>\n",
       "      <td>0</td>\n",
       "      <td>0</td>\n",
       "      <td>1</td>\n",
       "      <td>0</td>\n",
       "      <td>0</td>\n",
       "      <td>1</td>\n",
       "      <td>0</td>\n",
       "      <td>0</td>\n",
       "      <td>0</td>\n",
       "      <td>1</td>\n",
       "    </tr>\n",
       "    <tr>\n",
       "      <th>3</th>\n",
       "      <td>65193</td>\n",
       "      <td>14/05/1999</td>\n",
       "      <td>1</td>\n",
       "      <td>4</td>\n",
       "      <td>2</td>\n",
       "      <td>20</td>\n",
       "      <td>204</td>\n",
       "      <td>184</td>\n",
       "      <td>0</td>\n",
       "      <td>10</td>\n",
       "      <td>...</td>\n",
       "      <td>0</td>\n",
       "      <td>0</td>\n",
       "      <td>1</td>\n",
       "      <td>0</td>\n",
       "      <td>0</td>\n",
       "      <td>1</td>\n",
       "      <td>0</td>\n",
       "      <td>0</td>\n",
       "      <td>0</td>\n",
       "      <td>1</td>\n",
       "    </tr>\n",
       "    <tr>\n",
       "      <th>4</th>\n",
       "      <td>65193</td>\n",
       "      <td>14/05/1999</td>\n",
       "      <td>1</td>\n",
       "      <td>5</td>\n",
       "      <td>6</td>\n",
       "      <td>37</td>\n",
       "      <td>204</td>\n",
       "      <td>167</td>\n",
       "      <td>0</td>\n",
       "      <td>10</td>\n",
       "      <td>...</td>\n",
       "      <td>0</td>\n",
       "      <td>0</td>\n",
       "      <td>1</td>\n",
       "      <td>0</td>\n",
       "      <td>0</td>\n",
       "      <td>1</td>\n",
       "      <td>0</td>\n",
       "      <td>0</td>\n",
       "      <td>0</td>\n",
       "      <td>1</td>\n",
       "    </tr>\n",
       "  </tbody>\n",
       "</table>\n",
       "<p>5 rows × 38 columns</p>\n",
       "</div>"
      ],
      "text/plain": [
       "   Match        Date  Innings  Over  Runs  Total.Runs  Innings.Total.Runs  \\\n",
       "0  65193  14/05/1999        1     1     4           4                 204   \n",
       "1  65193  14/05/1999        1     2     2           6                 204   \n",
       "2  65193  14/05/1999        1     3     3           9                 204   \n",
       "3  65193  14/05/1999        1     4     2          20                 204   \n",
       "4  65193  14/05/1999        1     5     6          37                 204   \n",
       "\n",
       "   Runs.Remaining  Total.Out  Innings.Total.Out  ...  at.bat.won.toss  \\\n",
       "0             200          0                 10  ...                0   \n",
       "1             198          0                 10  ...                0   \n",
       "2             195          0                 10  ...                0   \n",
       "3             184          0                 10  ...                0   \n",
       "4             167          0                 10  ...                0   \n",
       "\n",
       "   at.bat.at.home  at.bat.bat.first  chose_bat_1st  chose_bat_2nd  \\\n",
       "0               0                 1              0              0   \n",
       "1               0                 1              0              0   \n",
       "2               0                 1              0              0   \n",
       "3               0                 1              0              0   \n",
       "4               0                 1              0              0   \n",
       "\n",
       "   forced_bat_1st  forced_bat_2nd  new.game Error.In.Data common.support  \n",
       "0               1               0         1             0              1  \n",
       "1               1               0         0             0              1  \n",
       "2               1               0         0             0              1  \n",
       "3               1               0         0             0              1  \n",
       "4               1               0         0             0              1  \n",
       "\n",
       "[5 rows x 38 columns]"
      ]
     },
     "execution_count": 52,
     "metadata": {},
     "output_type": "execute_result"
    }
   ],
   "source": [
    "data.head()"
   ]
  },
  {
   "cell_type": "code",
   "execution_count": 53,
   "metadata": {},
   "outputs": [
    {
     "name": "stdout",
     "output_type": "stream",
     "text": [
      "Number of matches: 1412\n"
     ]
    }
   ],
   "source": [
    "#getting the number of matches in remaining data\n",
    "num_matches=len(set(data['Match']))\n",
    "print(\"Number of matches:\",num_matches)"
   ]
  },
  {
   "cell_type": "code",
   "execution_count": 54,
   "metadata": {},
   "outputs": [],
   "source": [
    "#filter data by first innings and project only relevant columns\n",
    "filtered_data=data[data['Innings']==1]\n",
    "filtered_data=filtered_data[['Match','Innings','Over','Total.Runs','Total.Out','Innings.Total.Runs']]"
   ]
  },
  {
   "cell_type": "code",
   "execution_count": 55,
   "metadata": {},
   "outputs": [
    {
     "data": {
      "text/html": [
       "<div>\n",
       "<style scoped>\n",
       "    .dataframe tbody tr th:only-of-type {\n",
       "        vertical-align: middle;\n",
       "    }\n",
       "\n",
       "    .dataframe tbody tr th {\n",
       "        vertical-align: top;\n",
       "    }\n",
       "\n",
       "    .dataframe thead th {\n",
       "        text-align: right;\n",
       "    }\n",
       "</style>\n",
       "<table border=\"1\" class=\"dataframe\">\n",
       "  <thead>\n",
       "    <tr style=\"text-align: right;\">\n",
       "      <th></th>\n",
       "      <th>Match</th>\n",
       "      <th>Innings</th>\n",
       "      <th>Over</th>\n",
       "      <th>Total.Runs</th>\n",
       "      <th>Total.Out</th>\n",
       "      <th>Innings.Total.Runs</th>\n",
       "    </tr>\n",
       "  </thead>\n",
       "  <tbody>\n",
       "    <tr>\n",
       "      <th>0</th>\n",
       "      <td>65193</td>\n",
       "      <td>1</td>\n",
       "      <td>1</td>\n",
       "      <td>4</td>\n",
       "      <td>0</td>\n",
       "      <td>204</td>\n",
       "    </tr>\n",
       "    <tr>\n",
       "      <th>1</th>\n",
       "      <td>65193</td>\n",
       "      <td>1</td>\n",
       "      <td>2</td>\n",
       "      <td>6</td>\n",
       "      <td>0</td>\n",
       "      <td>204</td>\n",
       "    </tr>\n",
       "    <tr>\n",
       "      <th>2</th>\n",
       "      <td>65193</td>\n",
       "      <td>1</td>\n",
       "      <td>3</td>\n",
       "      <td>9</td>\n",
       "      <td>0</td>\n",
       "      <td>204</td>\n",
       "    </tr>\n",
       "    <tr>\n",
       "      <th>3</th>\n",
       "      <td>65193</td>\n",
       "      <td>1</td>\n",
       "      <td>4</td>\n",
       "      <td>20</td>\n",
       "      <td>0</td>\n",
       "      <td>204</td>\n",
       "    </tr>\n",
       "    <tr>\n",
       "      <th>4</th>\n",
       "      <td>65193</td>\n",
       "      <td>1</td>\n",
       "      <td>5</td>\n",
       "      <td>37</td>\n",
       "      <td>0</td>\n",
       "      <td>204</td>\n",
       "    </tr>\n",
       "  </tbody>\n",
       "</table>\n",
       "</div>"
      ],
      "text/plain": [
       "   Match  Innings  Over  Total.Runs  Total.Out  Innings.Total.Runs\n",
       "0  65193        1     1           4          0                 204\n",
       "1  65193        1     2           6          0                 204\n",
       "2  65193        1     3           9          0                 204\n",
       "3  65193        1     4          20          0                 204\n",
       "4  65193        1     5          37          0                 204"
      ]
     },
     "execution_count": 55,
     "metadata": {},
     "output_type": "execute_result"
    }
   ],
   "source": [
    "filtered_data.head()"
   ]
  },
  {
   "cell_type": "code",
   "execution_count": 56,
   "metadata": {},
   "outputs": [
    {
     "name": "stdout",
     "output_type": "stream",
     "text": [
      "(67288, 6)\n"
     ]
    }
   ],
   "source": [
    "print(filtered_data.shape)"
   ]
  },
  {
   "cell_type": "code",
   "execution_count": 88,
   "metadata": {},
   "outputs": [],
   "source": [
    "import numpy as np\n",
    "#z0_L denotes 11 parameters : Z(1),...,Z(10) and L in this order\n",
    "z0_L=np.random.rand(11)\n",
    "\n",
    "#returns run scoring potential given u overs to go,w wickets in hand and 11 parameters\n",
    "def Z(u,w,z0_L):\n",
    "    z_indx=w-1#to correctly index onto the right parameter acc to wicket in hand\n",
    "    return z0_L[z_indx]*(1-np.exp(-(z0_L[10]*u)/z0_L[z_indx])) # Implementation of model foumula Z(u,w;theta)=Z(W)(1-exp(-Lu/Z(w)))\n",
    "\n",
    "#returns y-Z(u,w,theta) or the residual. Numpy automatically squares this to fit least square sum.\n",
    "def residual(z0_L,u,w,R):\n",
    "    return Z(u,w,z0_L)-R"
   ]
  },
  {
   "cell_type": "code",
   "execution_count": 89,
   "metadata": {},
   "outputs": [],
   "source": [
    "u_train=50-filtered_data['Over'].values\n",
    "w_train=10-filtered_data['Total.Out'].values\n",
    "R_train=filtered_data['Innings.Total.Runs'].values-filtered_data['Total.Runs'].values"
   ]
  },
  {
   "cell_type": "code",
   "execution_count": 90,
   "metadata": {},
   "outputs": [],
   "source": [
    "from scipy.optimize import least_squares\n",
    "res_lsq = least_squares(residual, z0_L, args=(u_train,w_train,R_train))"
   ]
  },
  {
   "cell_type": "code",
   "execution_count": 76,
   "metadata": {},
   "outputs": [
    {
     "name": "stdout",
     "output_type": "stream",
     "text": [
      "Initial params (Z1 to Z10 and L): [  5  11  22  35  48  62  75  88  95 100   8]\n"
     ]
    }
   ],
   "source": [
    "print(\"Initial params (Z1 to Z10 and L):\",z0_L)"
   ]
  },
  {
   "cell_type": "code",
   "execution_count": 77,
   "metadata": {},
   "outputs": [
    {
     "name": "stdout",
     "output_type": "stream",
     "text": [
      "Trained params (Z1 to Z10 and L): [ 11.69547659  26.85680055  50.74649901  78.75252935 104.0554649\n",
      " 137.91327001 169.2083354  207.69472275 239.49335037 284.89059685\n",
      "  10.84280266]\n"
     ]
    }
   ],
   "source": [
    "print(\"Trained params (Z1 to Z10 and L):\",res_lsq.x)"
   ]
  },
  {
   "cell_type": "code",
   "execution_count": 78,
   "metadata": {},
   "outputs": [
    {
     "data": {
      "image/png": "[encoded data removed]",
      "text/plain": [
       "<Figure size 864x648 with 1 Axes>"
      ]
     },
     "metadata": {
      "needs_background": "light"
     },
     "output_type": "display_data"
    }
   ],
   "source": [
    "%matplotlib inline\n",
    "import matplotlib.pyplot as plt\n",
    "fig_size = plt.rcParams[\"figure.figsize\"]\n",
    "fig_size[0] = 12\n",
    "fig_size[1] = 9\n",
    "plt.rcParams[\"figure.figsize\"] = fig_size\n",
    "for wickets_in_hand in range(1,11):\n",
    "    x=np.arange(50)\n",
    "    y=(Z(np.arange(50),wickets_in_hand,res_lsq.x)/Z(50,10,res_lsq.x))*100\n",
    "    plt.plot(x,y,label=str(wickets_in_hand))\n",
    "plt.xlabel('Overs In Hand')\n",
    "plt.ylabel('Resource Percentage Remaining')\n",
    "plt.legend()\n",
    "plt.yticks(np.arange(0, 101, 10)) \n",
    "plt.grid()\n",
    "plt.show()"
   ]
  },
  {
   "cell_type": "code",
   "execution_count": 79,
   "metadata": {},
   "outputs": [
    {
     "name": "stdout",
     "output_type": "stream",
     "text": [
      "Cost at solution: 52209037.68843758\n"
     ]
    }
   ],
   "source": [
    "print(\"Cost at solution:\",res_lsq.cost)"
   ]
  },
  {
   "cell_type": "code",
   "execution_count": null,
   "metadata": {},
   "outputs": [],
   "source": []
  }
 ],
 "metadata": {
  "kernelspec": {
   "display_name": "Python 3",
   "language": "python",
   "name": "python3"
  },
  "language_info": {
   "codemirror_mode": {
    "name": "ipython",
    "version": 3
   },
   "file_extension": ".py",
   "mimetype": "text/x-python",
   "name": "python",
   "nbconvert_exporter": "python",
   "pygments_lexer": "ipython3",
   "version": "3.6.5"
  }
 },
 "nbformat": 4,
 "nbformat_minor": 2
}
