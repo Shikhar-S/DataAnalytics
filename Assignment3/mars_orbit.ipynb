{
 "cells": [
  {
   "cell_type": "code",
   "execution_count": 1,
   "metadata": {},
   "outputs": [],
   "source": [
    "import pandas as pd\n",
    "import numpy as np\n",
    "df=pd.read_csv('../data/01_data_mars_triangulation.csv')"
   ]
  },
  {
   "cell_type": "code",
   "execution_count": 2,
   "metadata": {},
   "outputs": [
    {
     "data": {
      "text/html": [
       "<div>\n",
       "<style scoped>\n",
       "    .dataframe tbody tr th:only-of-type {\n",
       "        vertical-align: middle;\n",
       "    }\n",
       "\n",
       "    .dataframe tbody tr th {\n",
       "        vertical-align: top;\n",
       "    }\n",
       "\n",
       "    .dataframe thead th {\n",
       "        text-align: right;\n",
       "    }\n",
       "</style>\n",
       "<table border=\"1\" class=\"dataframe\">\n",
       "  <thead>\n",
       "    <tr style=\"text-align: right;\">\n",
       "      <th></th>\n",
       "      <th>PairIndex</th>\n",
       "      <th>Day</th>\n",
       "      <th>Month</th>\n",
       "      <th>Year</th>\n",
       "      <th>DegreeEarthLocationHelioCentric</th>\n",
       "      <th>MinuteEarthLocationHelioCentric</th>\n",
       "      <th>DegreeMarsLocationGeoCentric</th>\n",
       "      <th>MinuteMarsLocationGeoCentric</th>\n",
       "    </tr>\n",
       "  </thead>\n",
       "  <tbody>\n",
       "    <tr>\n",
       "      <th>0</th>\n",
       "      <td>1</td>\n",
       "      <td>17</td>\n",
       "      <td>2</td>\n",
       "      <td>1585</td>\n",
       "      <td>159</td>\n",
       "      <td>23</td>\n",
       "      <td>135</td>\n",
       "      <td>12</td>\n",
       "    </tr>\n",
       "    <tr>\n",
       "      <th>1</th>\n",
       "      <td>1</td>\n",
       "      <td>5</td>\n",
       "      <td>1</td>\n",
       "      <td>1587</td>\n",
       "      <td>115</td>\n",
       "      <td>21</td>\n",
       "      <td>182</td>\n",
       "      <td>8</td>\n",
       "    </tr>\n",
       "    <tr>\n",
       "      <th>2</th>\n",
       "      <td>2</td>\n",
       "      <td>19</td>\n",
       "      <td>9</td>\n",
       "      <td>1591</td>\n",
       "      <td>5</td>\n",
       "      <td>47</td>\n",
       "      <td>284</td>\n",
       "      <td>18</td>\n",
       "    </tr>\n",
       "    <tr>\n",
       "      <th>3</th>\n",
       "      <td>2</td>\n",
       "      <td>6</td>\n",
       "      <td>8</td>\n",
       "      <td>1593</td>\n",
       "      <td>323</td>\n",
       "      <td>26</td>\n",
       "      <td>346</td>\n",
       "      <td>56</td>\n",
       "    </tr>\n",
       "    <tr>\n",
       "      <th>4</th>\n",
       "      <td>3</td>\n",
       "      <td>7</td>\n",
       "      <td>12</td>\n",
       "      <td>1593</td>\n",
       "      <td>85</td>\n",
       "      <td>53</td>\n",
       "      <td>3</td>\n",
       "      <td>4</td>\n",
       "    </tr>\n",
       "    <tr>\n",
       "      <th>5</th>\n",
       "      <td>3</td>\n",
       "      <td>25</td>\n",
       "      <td>10</td>\n",
       "      <td>1595</td>\n",
       "      <td>41</td>\n",
       "      <td>42</td>\n",
       "      <td>49</td>\n",
       "      <td>42</td>\n",
       "    </tr>\n",
       "    <tr>\n",
       "      <th>6</th>\n",
       "      <td>4</td>\n",
       "      <td>28</td>\n",
       "      <td>3</td>\n",
       "      <td>1587</td>\n",
       "      <td>196</td>\n",
       "      <td>50</td>\n",
       "      <td>168</td>\n",
       "      <td>12</td>\n",
       "    </tr>\n",
       "    <tr>\n",
       "      <th>7</th>\n",
       "      <td>4</td>\n",
       "      <td>12</td>\n",
       "      <td>2</td>\n",
       "      <td>1589</td>\n",
       "      <td>153</td>\n",
       "      <td>42</td>\n",
       "      <td>218</td>\n",
       "      <td>48</td>\n",
       "    </tr>\n",
       "    <tr>\n",
       "      <th>8</th>\n",
       "      <td>5</td>\n",
       "      <td>10</td>\n",
       "      <td>3</td>\n",
       "      <td>1585</td>\n",
       "      <td>179</td>\n",
       "      <td>41</td>\n",
       "      <td>131</td>\n",
       "      <td>48</td>\n",
       "    </tr>\n",
       "    <tr>\n",
       "      <th>9</th>\n",
       "      <td>5</td>\n",
       "      <td>26</td>\n",
       "      <td>1</td>\n",
       "      <td>1587</td>\n",
       "      <td>136</td>\n",
       "      <td>6</td>\n",
       "      <td>184</td>\n",
       "      <td>42</td>\n",
       "    </tr>\n",
       "  </tbody>\n",
       "</table>\n",
       "</div>"
      ],
      "text/plain": [
       "   PairIndex  Day  Month  Year  DegreeEarthLocationHelioCentric  \\\n",
       "0          1   17      2  1585                              159   \n",
       "1          1    5      1  1587                              115   \n",
       "2          2   19      9  1591                                5   \n",
       "3          2    6      8  1593                              323   \n",
       "4          3    7     12  1593                               85   \n",
       "5          3   25     10  1595                               41   \n",
       "6          4   28      3  1587                              196   \n",
       "7          4   12      2  1589                              153   \n",
       "8          5   10      3  1585                              179   \n",
       "9          5   26      1  1587                              136   \n",
       "\n",
       "   MinuteEarthLocationHelioCentric  DegreeMarsLocationGeoCentric  \\\n",
       "0                               23                           135   \n",
       "1                               21                           182   \n",
       "2                               47                           284   \n",
       "3                               26                           346   \n",
       "4                               53                             3   \n",
       "5                               42                            49   \n",
       "6                               50                           168   \n",
       "7                               42                           218   \n",
       "8                               41                           131   \n",
       "9                                6                           184   \n",
       "\n",
       "   MinuteMarsLocationGeoCentric  \n",
       "0                            12  \n",
       "1                             8  \n",
       "2                            18  \n",
       "3                            56  \n",
       "4                             4  \n",
       "5                            42  \n",
       "6                            12  \n",
       "7                            48  \n",
       "8                            48  \n",
       "9                            42  "
      ]
     },
     "execution_count": 2,
     "metadata": {},
     "output_type": "execute_result"
    }
   ],
   "source": [
    "df.head(100)"
   ]
  },
  {
   "cell_type": "code",
   "execution_count": 3,
   "metadata": {},
   "outputs": [],
   "source": [
    "def get_as_radian(degree,minute,second=0,zodiac_index=0):\n",
    "    base_angle=zodiac_index*30\n",
    "    deg_angle=base_angle+degree+(minute/60.0)+(second/3600.0)\n",
    "    return np.radians(deg_angle)"
   ]
  },
  {
   "cell_type": "code",
   "execution_count": 4,
   "metadata": {},
   "outputs": [],
   "source": [
    "A=[] #heliocentric angle of earth\n",
    "B=[] #paired heliocentric angle of earth\n",
    "C=[] #geocentric angle of mars\n",
    "D=[] #paired geocentric angle of mars\n",
    "\n",
    "for i in range(1,6):\n",
    "    rows=df[df['PairIndex']==i]\n",
    "    A.append(get_as_radian(rows.iloc[0]['DegreeEarthLocationHelioCentric'],rows.iloc[0]['MinuteEarthLocationHelioCentric']))\n",
    "    B.append(get_as_radian(rows.iloc[1]['DegreeEarthLocationHelioCentric'],rows.iloc[1]['MinuteEarthLocationHelioCentric']))\n",
    "    C.append(get_as_radian(rows.iloc[0]['DegreeMarsLocationGeoCentric'],rows.iloc[0]['MinuteMarsLocationGeoCentric']))\n",
    "    D.append(get_as_radian(rows.iloc[1]['DegreeMarsLocationGeoCentric'],rows.iloc[1]['MinuteMarsLocationGeoCentric']))\n",
    "A=np.array(A)\n",
    "B=np.array(B)\n",
    "C=np.array(C)\n",
    "D=np.array(D)"
   ]
  },
  {
   "cell_type": "code",
   "execution_count": 5,
   "metadata": {},
   "outputs": [],
   "source": [
    "def get_coordinates(A,B,C,D):\n",
    "    x=(np.tan(D)*np.cos(B)-np.tan(C)*np.cos(A)-np.sin(B)+np.sin(A))/(np.tan(D)-np.tan(C))\n",
    "    y=np.sin(A)+np.tan(C)*(x-np.cos(A))\n",
    "    return (x,y)"
   ]
  },
  {
   "cell_type": "code",
   "execution_count": 6,
   "metadata": {},
   "outputs": [],
   "source": [
    "x,y=get_coordinates(A,B,C,D)"
   ]
  },
  {
   "cell_type": "code",
   "execution_count": 7,
   "metadata": {},
   "outputs": [
    {
     "data": {
      "text/plain": [
       "(array([-1.45297367,  1.19567278,  1.07388531, -1.63230459, -1.55376733]),\n",
       " array([ 0.86553353, -0.68685663,  1.05110693, -0.1485418 ,  0.62489899]))"
      ]
     },
     "execution_count": 7,
     "metadata": {},
     "output_type": "execute_result"
    }
   ],
   "source": [
    "x,y"
   ]
  },
  {
   "cell_type": "code",
   "execution_count": 14,
   "metadata": {},
   "outputs": [],
   "source": [
    "def circle_fit_objective(r,x,y):\n",
    "    return np.sum((np.sqrt(x**2+y**2)-r)**2)"
   ]
  },
  {
   "cell_type": "code",
   "execution_count": 15,
   "metadata": {},
   "outputs": [
    {
     "name": "stdout",
     "output_type": "stream",
     "text": [
      "[0.48831025]\n",
      "      fun: 0.07120993396639348\n",
      " hess_inv: array([[0.1]])\n",
      "      jac: array([4.65661287e-09])\n",
      "  message: 'Optimization terminated successfully.'\n",
      "     nfev: 9\n",
      "      nit: 2\n",
      "     njev: 3\n",
      "   status: 0\n",
      "  success: True\n",
      "        x: array([1.57732091])\n"
     ]
    }
   ],
   "source": [
    "from scipy.optimize import minimize\n",
    "r=np.random.rand(1)\n",
    "print (r)\n",
    "res=minimize(circle_fit_objective,r,args=(x,y))\n",
    "print (res)\n",
    "Radius=res.x"
   ]
  },
  {
   "cell_type": "code",
   "execution_count": 19,
   "metadata": {},
   "outputs": [],
   "source": [
    "df_opp=pd.read_csv('../data/01_data_mars_opposition.csv')"
   ]
  },
  {
   "cell_type": "code",
   "execution_count": 20,
   "metadata": {},
   "outputs": [
    {
     "data": {
      "text/html": [
       "<div>\n",
       "<style scoped>\n",
       "    .dataframe tbody tr th:only-of-type {\n",
       "        vertical-align: middle;\n",
       "    }\n",
       "\n",
       "    .dataframe tbody tr th {\n",
       "        vertical-align: top;\n",
       "    }\n",
       "\n",
       "    .dataframe thead th {\n",
       "        text-align: right;\n",
       "    }\n",
       "</style>\n",
       "<table border=\"1\" class=\"dataframe\">\n",
       "  <thead>\n",
       "    <tr style=\"text-align: right;\">\n",
       "      <th></th>\n",
       "      <th>Day</th>\n",
       "      <th>Month</th>\n",
       "      <th>Year</th>\n",
       "      <th>ZodiacIndex</th>\n",
       "      <th>Degree</th>\n",
       "      <th>Minute</th>\n",
       "      <th>Second</th>\n",
       "      <th>LatDegree</th>\n",
       "      <th>LatMinute</th>\n",
       "      <th>ZodiacIndexAverageSun</th>\n",
       "      <th>DegreeMean</th>\n",
       "      <th>MinuteMean</th>\n",
       "      <th>SecondMean</th>\n",
       "    </tr>\n",
       "  </thead>\n",
       "  <tbody>\n",
       "    <tr>\n",
       "      <th>0</th>\n",
       "      <td>18</td>\n",
       "      <td>11</td>\n",
       "      <td>1580</td>\n",
       "      <td>2</td>\n",
       "      <td>6</td>\n",
       "      <td>28</td>\n",
       "      <td>35</td>\n",
       "      <td>1</td>\n",
       "      <td>40</td>\n",
       "      <td>1</td>\n",
       "      <td>25</td>\n",
       "      <td>49</td>\n",
       "      <td>31</td>\n",
       "    </tr>\n",
       "    <tr>\n",
       "      <th>1</th>\n",
       "      <td>28</td>\n",
       "      <td>12</td>\n",
       "      <td>1582</td>\n",
       "      <td>3</td>\n",
       "      <td>16</td>\n",
       "      <td>55</td>\n",
       "      <td>30</td>\n",
       "      <td>4</td>\n",
       "      <td>6</td>\n",
       "      <td>3</td>\n",
       "      <td>9</td>\n",
       "      <td>24</td>\n",
       "      <td>55</td>\n",
       "    </tr>\n",
       "    <tr>\n",
       "      <th>2</th>\n",
       "      <td>30</td>\n",
       "      <td>1</td>\n",
       "      <td>1585</td>\n",
       "      <td>4</td>\n",
       "      <td>21</td>\n",
       "      <td>36</td>\n",
       "      <td>10</td>\n",
       "      <td>4</td>\n",
       "      <td>32</td>\n",
       "      <td>4</td>\n",
       "      <td>20</td>\n",
       "      <td>8</td>\n",
       "      <td>9</td>\n",
       "    </tr>\n",
       "    <tr>\n",
       "      <th>3</th>\n",
       "      <td>6</td>\n",
       "      <td>3</td>\n",
       "      <td>1587</td>\n",
       "      <td>5</td>\n",
       "      <td>25</td>\n",
       "      <td>43</td>\n",
       "      <td>0</td>\n",
       "      <td>3</td>\n",
       "      <td>41</td>\n",
       "      <td>6</td>\n",
       "      <td>0</td>\n",
       "      <td>47</td>\n",
       "      <td>40</td>\n",
       "    </tr>\n",
       "    <tr>\n",
       "      <th>4</th>\n",
       "      <td>14</td>\n",
       "      <td>4</td>\n",
       "      <td>1589</td>\n",
       "      <td>7</td>\n",
       "      <td>4</td>\n",
       "      <td>23</td>\n",
       "      <td>0</td>\n",
       "      <td>1</td>\n",
       "      <td>12</td>\n",
       "      <td>7</td>\n",
       "      <td>14</td>\n",
       "      <td>18</td>\n",
       "      <td>26</td>\n",
       "    </tr>\n",
       "    <tr>\n",
       "      <th>5</th>\n",
       "      <td>8</td>\n",
       "      <td>6</td>\n",
       "      <td>1591</td>\n",
       "      <td>8</td>\n",
       "      <td>26</td>\n",
       "      <td>43</td>\n",
       "      <td>0</td>\n",
       "      <td>-4</td>\n",
       "      <td>0</td>\n",
       "      <td>9</td>\n",
       "      <td>5</td>\n",
       "      <td>43</td>\n",
       "      <td>55</td>\n",
       "    </tr>\n",
       "    <tr>\n",
       "      <th>6</th>\n",
       "      <td>25</td>\n",
       "      <td>8</td>\n",
       "      <td>1593</td>\n",
       "      <td>11</td>\n",
       "      <td>12</td>\n",
       "      <td>16</td>\n",
       "      <td>0</td>\n",
       "      <td>-6</td>\n",
       "      <td>-2</td>\n",
       "      <td>11</td>\n",
       "      <td>9</td>\n",
       "      <td>49</td>\n",
       "      <td>31</td>\n",
       "    </tr>\n",
       "    <tr>\n",
       "      <th>7</th>\n",
       "      <td>31</td>\n",
       "      <td>10</td>\n",
       "      <td>1595</td>\n",
       "      <td>1</td>\n",
       "      <td>17</td>\n",
       "      <td>31</td>\n",
       "      <td>40</td>\n",
       "      <td>0</td>\n",
       "      <td>8</td>\n",
       "      <td>1</td>\n",
       "      <td>9</td>\n",
       "      <td>55</td>\n",
       "      <td>4</td>\n",
       "    </tr>\n",
       "    <tr>\n",
       "      <th>8</th>\n",
       "      <td>13</td>\n",
       "      <td>12</td>\n",
       "      <td>1597</td>\n",
       "      <td>3</td>\n",
       "      <td>2</td>\n",
       "      <td>28</td>\n",
       "      <td>0</td>\n",
       "      <td>3</td>\n",
       "      <td>33</td>\n",
       "      <td>2</td>\n",
       "      <td>23</td>\n",
       "      <td>11</td>\n",
       "      <td>56</td>\n",
       "    </tr>\n",
       "    <tr>\n",
       "      <th>9</th>\n",
       "      <td>18</td>\n",
       "      <td>1</td>\n",
       "      <td>1600</td>\n",
       "      <td>4</td>\n",
       "      <td>8</td>\n",
       "      <td>38</td>\n",
       "      <td>0</td>\n",
       "      <td>4</td>\n",
       "      <td>30</td>\n",
       "      <td>4</td>\n",
       "      <td>4</td>\n",
       "      <td>35</td>\n",
       "      <td>50</td>\n",
       "    </tr>\n",
       "    <tr>\n",
       "      <th>10</th>\n",
       "      <td>20</td>\n",
       "      <td>2</td>\n",
       "      <td>1602</td>\n",
       "      <td>5</td>\n",
       "      <td>12</td>\n",
       "      <td>27</td>\n",
       "      <td>0</td>\n",
       "      <td>4</td>\n",
       "      <td>10</td>\n",
       "      <td>5</td>\n",
       "      <td>14</td>\n",
       "      <td>59</td>\n",
       "      <td>37</td>\n",
       "    </tr>\n",
       "    <tr>\n",
       "      <th>11</th>\n",
       "      <td>28</td>\n",
       "      <td>3</td>\n",
       "      <td>1604</td>\n",
       "      <td>6</td>\n",
       "      <td>18</td>\n",
       "      <td>37</td>\n",
       "      <td>10</td>\n",
       "      <td>2</td>\n",
       "      <td>26</td>\n",
       "      <td>6</td>\n",
       "      <td>27</td>\n",
       "      <td>0</td>\n",
       "      <td>12</td>\n",
       "    </tr>\n",
       "  </tbody>\n",
       "</table>\n",
       "</div>"
      ],
      "text/plain": [
       "    Day  Month  Year  ZodiacIndex  Degree  Minute  Second  LatDegree  \\\n",
       "0    18     11  1580            2       6      28      35          1   \n",
       "1    28     12  1582            3      16      55      30          4   \n",
       "2    30      1  1585            4      21      36      10          4   \n",
       "3     6      3  1587            5      25      43       0          3   \n",
       "4    14      4  1589            7       4      23       0          1   \n",
       "5     8      6  1591            8      26      43       0         -4   \n",
       "6    25      8  1593           11      12      16       0         -6   \n",
       "7    31     10  1595            1      17      31      40          0   \n",
       "8    13     12  1597            3       2      28       0          3   \n",
       "9    18      1  1600            4       8      38       0          4   \n",
       "10   20      2  1602            5      12      27       0          4   \n",
       "11   28      3  1604            6      18      37      10          2   \n",
       "\n",
       "    LatMinute  ZodiacIndexAverageSun  DegreeMean  MinuteMean  SecondMean  \n",
       "0          40                      1          25          49          31  \n",
       "1           6                      3           9          24          55  \n",
       "2          32                      4          20           8           9  \n",
       "3          41                      6           0          47          40  \n",
       "4          12                      7          14          18          26  \n",
       "5           0                      9           5          43          55  \n",
       "6          -2                     11           9          49          31  \n",
       "7           8                      1           9          55           4  \n",
       "8          33                      2          23          11          56  \n",
       "9          30                      4           4          35          50  \n",
       "10         10                      5          14          59          37  \n",
       "11         26                      6          27           0          12  "
      ]
     },
     "execution_count": 20,
     "metadata": {},
     "output_type": "execute_result"
    }
   ],
   "source": [
    "df_opp.head(100)"
   ]
  },
  {
   "cell_type": "code",
   "execution_count": 21,
   "metadata": {},
   "outputs": [],
   "source": [
    "mars_lat_geo=get_as_radian(df_opp['LatDegree'],df_opp['LatMinute'])"
   ]
  },
  {
   "cell_type": "code",
   "execution_count": 228,
   "metadata": {},
   "outputs": [],
   "source": [
    "#returns mars heliocentric lats from geocentric lats and dis of mars from sun\n",
    "def get_mars_helio_lat(mars_lat_geo,radius):\n",
    "    y= (radius-1)*np.tan(mars_lat_geo)\n",
    "    return np.arctan(y/radius)"
   ]
  },
  {
   "cell_type": "code",
   "execution_count": 229,
   "metadata": {},
   "outputs": [],
   "source": [
    "mars_lat_helio=get_mars_helio_lat(mars_lat_geo,Radius)\n",
    "mars_long_helio=get_as_radian(df_opp['Degree'],df_opp['Minute'],df_opp['Second'],df_opp['ZodiacIndex'])"
   ]
  },
  {
   "cell_type": "code",
   "execution_count": 230,
   "metadata": {},
   "outputs": [],
   "source": [
    "def get_mars_3d(alpha,beta):\n",
    "    X=-np.cos(alpha)*np.sin(beta)\n",
    "    Y=np.cos(alpha)*np.cos(beta)\n",
    "    Z=np.sin(alpha)\n",
    "    return (X,Y,Z)\n",
    "\n",
    "def mars_plane_objective(normal_dirn,alpha,beta):\n",
    "    X=-np.cos(alpha)*np.sin(beta)\n",
    "    Y=np.cos(alpha)*np.cos(beta)\n",
    "    Z=np.sin(alpha)\n",
    "    dis=(X*normal_dirn[0]+Y*normal_dirn[1]+Z*normal_dirn[2])/np.sqrt(np.sum(normal_dirn**2))\n",
    "    return np.sum(dis**2)"
   ]
  },
  {
   "cell_type": "code",
   "execution_count": 231,
   "metadata": {},
   "outputs": [
    {
     "name": "stdout",
     "output_type": "stream",
     "text": [
      "[ 0.82550194 -0.77607282  0.24797288]\n",
      "[0.02208052 0.02361303 0.9994773 ]\n",
      "      fun: 0.00014653354180996307\n",
      " hess_inv: array([[ 2.08282907, -0.19941544, -0.51455369],\n",
      "       [-0.19941544,  2.21441668,  0.46875352],\n",
      "       [-0.51455369,  0.46875352,  2.50272173]])\n",
      "      jac: array([-1.69216764e-06, -8.84454494e-07,  5.84368536e-08])\n",
      "  message: 'Optimization terminated successfully.'\n",
      "     nfev: 45\n",
      "      nit: 7\n",
      "     njev: 9\n",
      "   status: 0\n",
      "  success: True\n",
      "        x: array([0.11529289, 0.12329489, 5.21874679])\n"
     ]
    }
   ],
   "source": [
    "dirn=np.random.uniform(low=-1, high=1, size=(3,))\n",
    "print (dirn)\n",
    "res=minimize(mars_plane_objective,dirn,args=(mars_lat_helio,mars_long_helio))\n",
    "print (res.x/np.sqrt(np.sum(res.x**2)))\n",
    "print (res)"
   ]
  },
  {
   "cell_type": "code",
   "execution_count": 232,
   "metadata": {},
   "outputs": [
    {
     "name": "stdout",
     "output_type": "stream",
     "text": [
      "[0.02208052 0.02361303 0.9994773 ]\n"
     ]
    }
   ],
   "source": [
    "mars_plane=(res.x/np.sqrt(np.sum(res.x**2)))\n",
    "print(mars_plane)"
   ]
  },
  {
   "cell_type": "code",
   "execution_count": 233,
   "metadata": {},
   "outputs": [],
   "source": [
    "sin_inclination=np.sqrt(np.sum(np.cross(mars_plane,np.array([0,0,1]))**2))/(np.sqrt(np.sum(mars_plane**2))) #001 is normal to xy plane.(horizontal plane)"
   ]
  },
  {
   "cell_type": "code",
   "execution_count": 234,
   "metadata": {},
   "outputs": [],
   "source": [
    "inclination=np.arcsin(sin_inclination)"
   ]
  },
  {
   "cell_type": "code",
   "execution_count": 235,
   "metadata": {},
   "outputs": [
    {
     "data": {
      "text/plain": [
       "1.85260289331129"
      ]
     },
     "execution_count": 235,
     "metadata": {},
     "output_type": "execute_result"
    }
   ],
   "source": [
    "np.degrees(inclination)"
   ]
  },
  {
   "cell_type": "code",
   "execution_count": 236,
   "metadata": {},
   "outputs": [],
   "source": [
    "#returns mars' 3d coordinates from equation of plane and x,y coordinates\n",
    "def get_mars_plane_projection(normal_dirn,x,y):\n",
    "    z=(normal_dirn[0]*x+normal_dirn[1]*y)/normal_dirn[2]\n",
    "    return (x,y,z)"
   ]
  },
  {
   "cell_type": "code",
   "execution_count": 237,
   "metadata": {},
   "outputs": [],
   "source": [
    "X,Y,Z=get_mars_plane_projection(mars_plane,x,y)"
   ]
  },
  {
   "cell_type": "code",
   "execution_count": 238,
   "metadata": {},
   "outputs": [],
   "source": [
    "#given n, n>1 3d points lying on a plane and normal to the plane this method returns the points in 2d coordinates u-v on plane.\n",
    "def coordinate_transform(X,Y,Z,normal_dirn):\n",
    "    u=np.array([X[0]-X[1],Y[0]-Y[1],Z[0]-Z[1]]) #vector on plane\n",
    "    v=np.cross(normal_dirn,u)\n",
    "    u=u/np.sqrt(np.sum(u**2)) #unit vector\n",
    "    v=v/np.sqrt(np.sum(v**2)) \n",
    "    #let U,V be the respective coordinates in this new system then,\n",
    "    U=np.dot(u,(X,Y,Z))\n",
    "    V=np.dot(v,(X,Y,Z))\n",
    "    return (U,V)"
   ]
  },
  {
   "cell_type": "code",
   "execution_count": 239,
   "metadata": {},
   "outputs": [
    {
     "data": {
      "text/plain": [
       "(array([ 1.69123382, -1.37889976, -0.39531664,  1.33338403,  1.65657111]),\n",
       " array([-0.01200473, -0.01200473, -1.44767902,  0.9521125 ,  0.24618014]))"
      ]
     },
     "execution_count": 239,
     "metadata": {},
     "output_type": "execute_result"
    }
   ],
   "source": [
    "U,V=coordinate_transform(X,Y,Z,mars_plane)\n",
    "U,V"
   ]
  },
  {
   "cell_type": "code",
   "execution_count": 240,
   "metadata": {},
   "outputs": [
    {
     "name": "stdout",
     "output_type": "stream",
     "text": [
      "[0.29110394]\n",
      "      fun: 0.07143672941988749\n",
      " hess_inv: array([[0.1]])\n",
      "      jac: array([-4.09781933e-08])\n",
      "  message: 'Optimization terminated successfully.'\n",
      "     nfev: 9\n",
      "      nit: 2\n",
      "     njev: 3\n",
      "   status: 0\n",
      "  success: True\n",
      "        x: array([1.57681966])\n"
     ]
    }
   ],
   "source": [
    "r_mc=np.random.rand(1)\n",
    "print (r_mc)\n",
    "res_mc=minimize(circle_fit_objective,r_mc,args=(U,V))\n",
    "print (res_mc)\n",
    "Radius=res_mc.x"
   ]
  },
  {
   "cell_type": "code",
   "execution_count": 241,
   "metadata": {},
   "outputs": [],
   "source": [
    "def ellipse_fit_objective(params,u,v):\n",
    "    a=params[0]\n",
    "    eccentricity=params[1]\n",
    "    b=np.sqrt(a*a*(1-eccentricity**2))\n",
    "    delta=params[2]\n",
    "    X=u*np.cos(delta)+v*np.sin(delta)\n",
    "    Y=v*np.cos(delta)-u*np.sin(delta)+np.sqrt(a**2-b**2)\n",
    "    f=(X/a)**2+(Y/b)**2-1\n",
    "    return np.sum(f**2)"
   ]
  },
  {
   "cell_type": "code",
   "execution_count": 242,
   "metadata": {},
   "outputs": [
    {
     "name": "stdout",
     "output_type": "stream",
     "text": [
      "[0.20411267 0.12079466 0.53419153]\n",
      "      fun: 0.0002577485756935398\n",
      " hess_inv: <3x3 LbfgsInvHessProduct with dtype=float64>\n",
      "      jac: array([7.75589445e-07, 8.20036313e-08, 7.66801986e-08])\n",
      "  message: b'CONVERGENCE: NORM_OF_PROJECTED_GRADIENT_<=_PGTOL'\n",
      "     nfev: 96\n",
      "      nit: 19\n",
      "   status: 0\n",
      "  success: True\n",
      "        x: array([1.53661524, 0.10014414, 1.46067496])\n"
     ]
    }
   ],
   "source": [
    "from scipy.optimize import Bounds\n",
    "r_me=np.random.rand(3)\n",
    "print (r_me)\n",
    "bounds=Bounds([0,0,0],[np.inf,1,2*np.pi])\n",
    "res_me=minimize(ellipse_fit_objective,r_me,args=(U,V),bounds=bounds)\n",
    "print (res_me)"
   ]
  },
  {
   "cell_type": "code",
   "execution_count": 252,
   "metadata": {},
   "outputs": [
    {
     "data": {
      "image/png": "[encoded data removed]",
      "text/plain": [
       "<Figure size 432x288 with 1 Axes>"
      ]
     },
     "metadata": {
      "needs_background": "light"
     },
     "output_type": "display_data"
    }
   ],
   "source": [
    "def get_uv(t,delta,A,ecc):\n",
    "    B=A*np.sqrt(1-ecc**2)\n",
    "    u_=A*np.cos(t)\n",
    "    v_=B*np.sin(t)-A*ecc\n",
    "    x=u_*np.cos(delta)-v_*np.sin(delta)\n",
    "    y=u_*np.sin(delta)+v_*np.cos(delta)\n",
    "    return (x,y)\n",
    "\n",
    "import matplotlib.pyplot as plt\n",
    "\n",
    "plt.plot(U,V,'ro')\n",
    "\n",
    "t=np.linspace(0,2*np.pi,100)\n",
    "\n",
    "circ_x=Radius*np.cos(t)\n",
    "circ_y=Radius*np.sin(t)\n",
    "plt.plot(circ_x,circ_y,'y')\n",
    "\n",
    "A,ecc,delta=res_me.x\n",
    "ellip_x,ellip_y=get_uv(t,delta,A,ecc)\n",
    "plt.plot(ellip_x,ellip_y)\n",
    "M_x,M_y,M_z=get_mars_3d(mars_lat_helio,mars_long_helio)\n",
    "M_x,M_y,M_z=get_mars_plane_projection(mars_plane,M_x,M_y)\n",
    "M_u,M_v=coordinate_transform(M_x,M_y,M_z,mars_plane)\n",
    "\n",
    "T=np.arctan(M_v/M_u)\n",
    "m12_x,m12_y=get_uv(T,delta,A,ecc)\n",
    "plt.plot(m12_x,m12_y,'o')\n",
    "plt.show()"
   ]
  },
  {
   "cell_type": "code",
   "execution_count": 333,
   "metadata": {},
   "outputs": [],
   "source": [
    "def cost(x,y,z,normal_dirn): #squared sum of distances of (x,y,z) from plane with normal_dirn as normal\n",
    "    dis=(x*normal_dirn[0]+y*normal_dirn[1]+z*normal_dirn[2])/np.sqrt(np.sum(normal_dirn**2))\n",
    "    return np.sum(dis**2)\n",
    "\n",
    "def grad_sig_f_sq(x,y,z,normal_dirn):\n",
    "    S=np.sum(normal_dirn**2)\n",
    "    A,B,C=normal_dirn\n",
    "    V=(A*x+B*y+C*z)\n",
    "    df_da=(1/S)*(2*np.sum(V*x))-(2*A/(S*S))*(np.sum(V**2))\n",
    "    df_db=(1/S)*(2*np.sum(V*y))-(2*B/(S*S))*(np.sum(V**2))\n",
    "    df_dc=(1/S)*(2*np.sum(V*z))-(2*C/(S*S))*(np.sum(V**2))\n",
    "    return np.array([df_da,df_db,df_dc])"
   ]
  },
  {
   "cell_type": "code",
   "execution_count": 360,
   "metadata": {},
   "outputs": [],
   "source": [
    "def bisection(x,y,z,theta,grad,left,right,tolerance=1e-5):\n",
    "    while(right-left>tolerance):\n",
    "        mid=(left+right)/2\n",
    "        mid_l=mid-tolerance/4\n",
    "        mid_r=mid+tolerance/4\n",
    "        cost_l=cost(x,y,z,theta-grad*mid_l)\n",
    "        cost_r=cost(x,y,z,theta-grad*mid_r)\n",
    "        if cost_l>cost_r:\n",
    "            left=mid_l\n",
    "        else:\n",
    "            right=mid_r\n",
    "    return (left+right)/2\n",
    "\n",
    "def grad_desc(x,y,z):\n",
    "    theta=np.random.uniform(low=-1, high=1, size=(3,))\n",
    "    eps=1e-5\n",
    "    gf=grad_sig_f_sq(x,y,z,theta)\n",
    "    mod_gf=np.sum(gf**2)\n",
    "    i=0\n",
    "    while(mod_gf>eps):\n",
    "        i+=1\n",
    "        mod_gf=np.sum(gf**2)\n",
    "        gf=grad_sig_f_sq(x,y,z,theta)\n",
    "        alpha_min=bisection(x,y,z,theta,gf,0,1)\n",
    "        theta=theta-alpha_min*gf\n",
    "        if i%1==0:\n",
    "            print(\"Current Iteration:\",i,\"gradient mod:\",mod_gf,\"cost:\",cost(x,y,z,theta),\"current inclination\",get_inclination(theta))\n",
    "    return theta,cost(x,y,z,theta)"
   ]
  },
  {
   "cell_type": "code",
   "execution_count": 361,
   "metadata": {},
   "outputs": [
    {
     "name": "stdout",
     "output_type": "stream",
     "text": [
      "Current Iteration: 1 gradient mod: 6.08006796129063 cost: 0.32656992021885783 current inclination 13.150551874303675\n",
      "Current Iteration: 2 gradient mod: 6.08006796129063 cost: 0.0007184953088075032 current inclination 2.368037087322535\n",
      "Current Iteration: 3 gradient mod: 1.0702948275485182 cost: 0.00014748003111077744 current inclination 1.8449359772818335\n",
      "Current Iteration: 4 gradient mod: 0.0019610072114885375 cost: 0.00014653510373605313 current inclination 1.8534805754469839\n",
      "Current Iteration: 5 gradient mod: 3.1037289834345053e-06 cost: 0.00014653354033651792 current inclination 1.8526332983009075\n"
     ]
    }
   ],
   "source": [
    "m_x,m_y,m_z=get_mars_3d(mars_lat_helio,mars_long_helio)\n",
    "res=grad_desc(m_x,m_y,m_z)"
   ]
  },
  {
   "cell_type": "code",
   "execution_count": 362,
   "metadata": {},
   "outputs": [],
   "source": [
    "test=res[0]"
   ]
  },
  {
   "cell_type": "code",
   "execution_count": 363,
   "metadata": {},
   "outputs": [],
   "source": [
    "def get_inclination(test):\n",
    "    sin_inclination=np.sqrt(np.sum(np.cross(test,np.array([0,0,1]))**2))/(np.sqrt(np.sum(test**2))) #001 is normal to xy plane.(horizontal plane)\n",
    "    inclination=np.arcsin(sin_inclination)\n",
    "    return np.degrees(inclination)"
   ]
  },
  {
   "cell_type": "code",
   "execution_count": 364,
   "metadata": {},
   "outputs": [
    {
     "name": "stdout",
     "output_type": "stream",
     "text": [
      "1.8526332983009075\n"
     ]
    }
   ],
   "source": [
    "print(get_inclination(test))"
   ]
  },
  {
   "cell_type": "code",
   "execution_count": 365,
   "metadata": {},
   "outputs": [
    {
     "name": "stdout",
     "output_type": "stream",
     "text": [
      "0.00014653354179815326\n",
      "9.969395548871952e-11\n"
     ]
    }
   ],
   "source": [
    "t=np.array([0.02208052, 0.02361303 ,0.9994773 ])\n",
    "print(cost(m_x,m_y,m_z,t))\n",
    "print(np.sum(grad_sig_f_sq(m_x,m_y,m_z,t)**2))"
   ]
  },
  {
   "cell_type": "code",
   "execution_count": null,
   "metadata": {},
   "outputs": [],
   "source": []
  }
 ],
 "metadata": {
  "kernelspec": {
   "display_name": "Python 3",
   "language": "python",
   "name": "python3"
  },
  "language_info": {
   "codemirror_mode": {
    "name": "ipython",
    "version": 3
   },
   "file_extension": ".py",
   "mimetype": "text/x-python",
   "name": "python",
   "nbconvert_exporter": "python",
   "pygments_lexer": "ipython3",
   "version": "3.6.5"
  }
 },
 "nbformat": 4,
 "nbformat_minor": 2
}
